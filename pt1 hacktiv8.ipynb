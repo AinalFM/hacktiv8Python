{
 "cells": [
  {
   "cell_type": "markdown",
   "id": "65b781b6",
   "metadata": {},
   "source": [
    "# Pertemuan sesi 1 Hacktiv8"
   ]
  },
  {
   "cell_type": "code",
   "execution_count": 1,
   "id": "6d222c9d",
   "metadata": {},
   "outputs": [
    {
     "name": "stdout",
     "output_type": "stream",
     "text": [
      "Halo Dunia!\n"
     ]
    }
   ],
   "source": [
    "print(\"Halo Dunia!\")"
   ]
  },
  {
   "cell_type": "code",
   "execution_count": 16,
   "id": "51dc53fa",
   "metadata": {},
   "outputs": [
    {
     "name": "stdout",
     "output_type": "stream",
     "text": [
      "Halo Dunia \"tipu-tipu\"\n"
     ]
    }
   ],
   "source": [
    "print('Halo Dunia \"tipu-tipu\"')"
   ]
  },
  {
   "cell_type": "code",
   "execution_count": 27,
   "id": "a036fd2f",
   "metadata": {},
   "outputs": [
    {
     "name": "stdout",
     "output_type": "stream",
     "text": [
      "AINAL 1\n"
     ]
    }
   ],
   "source": [
    "a= \"AINAL\"\n",
    "b= 1\n",
    "\n",
    "print(a+\" \"+str(b))"
   ]
  },
  {
   "cell_type": "code",
   "execution_count": 29,
   "id": "e40aa942",
   "metadata": {},
   "outputs": [
    {
     "name": "stdout",
     "output_type": "stream",
     "text": [
      "1\n"
     ]
    }
   ],
   "source": [
    "a10 = 1\n",
    "print(a10)"
   ]
  },
  {
   "cell_type": "code",
   "execution_count": 32,
   "id": "c1bdc424",
   "metadata": {},
   "outputs": [
    {
     "ename": "TypeError",
     "evalue": "can't multiply sequence by non-int of type 'str'",
     "output_type": "error",
     "traceback": [
      "\u001b[1;31m---------------------------------------------------------------------------\u001b[0m",
      "\u001b[1;31mTypeError\u001b[0m                                 Traceback (most recent call last)",
      "Input \u001b[1;32mIn [32]\u001b[0m, in \u001b[0;36m<cell line: 4>\u001b[1;34m()\u001b[0m\n\u001b[0;32m      2\u001b[0m b\u001b[38;5;241m=\u001b[39m\u001b[38;5;124m\"\u001b[39m\u001b[38;5;124m10\u001b[39m\u001b[38;5;124m\"\u001b[39m\n\u001b[0;32m      3\u001b[0m \u001b[38;5;66;03m# print(a==b)\u001b[39;00m\n\u001b[1;32m----> 4\u001b[0m \u001b[38;5;28mprint\u001b[39m(\u001b[43ma\u001b[49m\u001b[38;5;241;43m*\u001b[39;49m\u001b[43mb\u001b[49m)\n",
      "\u001b[1;31mTypeError\u001b[0m: can't multiply sequence by non-int of type 'str'"
     ]
    }
   ],
   "source": [
    "a= \"ainal\"\n",
    "b=\"10\"\n",
    "# print(a==b)\n",
    "print(a*b)"
   ]
  },
  {
   "cell_type": "code",
   "execution_count": 37,
   "id": "855ef714",
   "metadata": {},
   "outputs": [
    {
     "data": {
      "text/plain": [
       "[1, 2, 3, 4, 'abc', 'def']"
      ]
     },
     "execution_count": 37,
     "metadata": {},
     "output_type": "execute_result"
    }
   ],
   "source": [
    "#list ukurannya dinamis\n",
    "lis1=[1,2,3,4]\n",
    "lis2 =[\"abc\",\"def\"]\n",
    "a = \"Ainal\"\n",
    "\n",
    "lis1+lis2"
   ]
  },
  {
   "cell_type": "code",
   "execution_count": 43,
   "id": "e37b424e",
   "metadata": {},
   "outputs": [
    {
     "name": "stdout",
     "output_type": "stream",
     "text": [
      "2\n"
     ]
    }
   ],
   "source": [
    "print(len(lis2))"
   ]
  },
  {
   "cell_type": "code",
   "execution_count": 46,
   "id": "551867cb",
   "metadata": {},
   "outputs": [
    {
     "ename": "AttributeError",
     "evalue": "'str' object has no attribute 'substr'",
     "output_type": "error",
     "traceback": [
      "\u001b[1;31m---------------------------------------------------------------------------\u001b[0m",
      "\u001b[1;31mAttributeError\u001b[0m                            Traceback (most recent call last)",
      "Input \u001b[1;32mIn [46]\u001b[0m, in \u001b[0;36m<cell line: 1>\u001b[1;34m()\u001b[0m\n\u001b[1;32m----> 1\u001b[0m \u001b[38;5;28mprint\u001b[39m(\u001b[43ma\u001b[49m\u001b[38;5;241;43m.\u001b[39;49m\u001b[43msubstr\u001b[49m(\u001b[38;5;241m1\u001b[39m,\u001b[38;5;241m4\u001b[39m))\n",
      "\u001b[1;31mAttributeError\u001b[0m: 'str' object has no attribute 'substr'"
     ]
    }
   ],
   "source": [
    "print(a.substr(1,4))"
   ]
  },
  {
   "cell_type": "code",
   "execution_count": 53,
   "id": "07c2ae55",
   "metadata": {},
   "outputs": [
    {
     "data": {
      "text/plain": [
       "[3, 4]"
      ]
     },
     "execution_count": 53,
     "metadata": {},
     "output_type": "execute_result"
    }
   ],
   "source": [
    "del lis1[0]\n",
    "\n",
    "lis1\n"
   ]
  },
  {
   "cell_type": "code",
   "execution_count": 57,
   "id": "8038e124",
   "metadata": {},
   "outputs": [],
   "source": [
    "lis1\n",
    "del lis1"
   ]
  },
  {
   "cell_type": "code",
   "execution_count": 59,
   "id": "e192b043",
   "metadata": {},
   "outputs": [
    {
     "data": {
      "text/plain": [
       "{'Indo': 'JKT48', 'Japan': 'AKB48', 'USA': 'USA48'}"
      ]
     },
     "execution_count": 59,
     "metadata": {},
     "output_type": "execute_result"
    }
   ],
   "source": [
    "dict1 = {\n",
    "    'Indo': 'JKT48',\n",
    "    'Japan': 'AKB48',\n",
    "    'USA':'USA48'\n",
    "}\n",
    "\n",
    "dict1"
   ]
  },
  {
   "cell_type": "code",
   "execution_count": 62,
   "id": "272d5955",
   "metadata": {},
   "outputs": [
    {
     "data": {
      "text/plain": [
       "{'Indo': 'Ainal48', 'Japan': 'AKB48', 'USA': 'USA48'}"
      ]
     },
     "execution_count": 62,
     "metadata": {},
     "output_type": "execute_result"
    }
   ],
   "source": [
    "dict1['Indo'] = 'Ainal48'\n",
    "dict1"
   ]
  }
 ],
 "metadata": {
  "kernelspec": {
   "display_name": "Python 3 (ipykernel)",
   "language": "python",
   "name": "python3"
  },
  "language_info": {
   "codemirror_mode": {
    "name": "ipython",
    "version": 3
   },
   "file_extension": ".py",
   "mimetype": "text/x-python",
   "name": "python",
   "nbconvert_exporter": "python",
   "pygments_lexer": "ipython3",
   "version": "3.9.12"
  }
 },
 "nbformat": 4,
 "nbformat_minor": 5
}
