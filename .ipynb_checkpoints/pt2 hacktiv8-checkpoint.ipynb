{
 "cells": [
  {
   "cell_type": "markdown",
   "id": "d1a4de6b",
   "metadata": {},
   "source": [
    "# Pertemuan sesi 2 Hacktiv8"
   ]
  },
  {
   "cell_type": "code",
   "execution_count": 1,
   "id": "7f0a6651",
   "metadata": {},
   "outputs": [
    {
     "name": "stdout",
     "output_type": "stream",
     "text": [
      "True\n"
     ]
    }
   ],
   "source": [
    "s = 'foo' in 'our food'\n",
    "print(s)"
   ]
  },
  {
   "cell_type": "code",
   "execution_count": 4,
   "id": "afcb544c",
   "metadata": {},
   "outputs": [
    {
     "name": "stdout",
     "output_type": "stream",
     "text": [
      "0\n",
      "3\n",
      "6\n",
      "9\n"
     ]
    }
   ],
   "source": [
    "for number in range(0, 10, 3):\n",
    "    print(number)"
   ]
  },
  {
   "cell_type": "code",
   "execution_count": 7,
   "id": "36c59a53",
   "metadata": {},
   "outputs": [
    {
     "data": {
      "text/plain": [
       "'diam di rumah'"
      ]
     },
     "execution_count": 7,
     "metadata": {},
     "output_type": "execute_result"
    }
   ],
   "source": [
    "hujan = False\n",
    "\n",
    "'Ayo pergi ke pantai' if hujan else 'diam di rumah'"
   ]
  },
  {
   "cell_type": "code",
   "execution_count": 9,
   "id": "2599f98b",
   "metadata": {},
   "outputs": [],
   "source": [
    "a = 10\n",
    "b = 20\n",
    "if a==b:\n",
    "    pass"
   ]
  },
  {
   "cell_type": "code",
   "execution_count": null,
   "id": "5360b1f3",
   "metadata": {},
   "outputs": [],
   "source": [
    "while a > 0:\n",
    "    if a == 3:\n",
    "        print(a)\n",
    "        break"
   ]
  }
 ],
 "metadata": {
  "kernelspec": {
   "display_name": "Python 3 (ipykernel)",
   "language": "python",
   "name": "python3"
  },
  "language_info": {
   "codemirror_mode": {
    "name": "ipython",
    "version": 3
   },
   "file_extension": ".py",
   "mimetype": "text/x-python",
   "name": "python",
   "nbconvert_exporter": "python",
   "pygments_lexer": "ipython3",
   "version": "3.9.12"
  }
 },
 "nbformat": 4,
 "nbformat_minor": 5
}
