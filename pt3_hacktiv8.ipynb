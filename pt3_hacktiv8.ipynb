{
 "cells": [
  {
   "cell_type": "markdown",
   "id": "7a68cc1c",
   "metadata": {},
   "source": [
    "# Pertemuan ketiga Hacktiv8"
   ]
  },
  {
   "cell_type": "markdown",
   "id": "d19ddf3d",
   "metadata": {},
   "source": [
    "1. Function "
   ]
  },
  {
   "cell_type": "code",
   "execution_count": 11,
   "id": "b8fa7c66",
   "metadata": {},
   "outputs": [],
   "source": [
    "def ainalism (a,b):\n",
    "    number = (a*b)-4\n",
    "#     print(\"Hasil yang diperoleh ialah: \",number)\n",
    "    return number"
   ]
  },
  {
   "cell_type": "code",
   "execution_count": 12,
   "id": "4bc40b0e",
   "metadata": {},
   "outputs": [
    {
     "data": {
      "text/plain": [
       "88"
      ]
     },
     "execution_count": 12,
     "metadata": {},
     "output_type": "execute_result"
    }
   ],
   "source": [
    "ainalism(23, 4)"
   ]
  },
  {
   "cell_type": "code",
   "execution_count": 13,
   "id": "e7417a4e",
   "metadata": {},
   "outputs": [],
   "source": [
    "# menghitung faktorial\n",
    "def factorial (n):\n",
    "    value = 1\n",
    "    while n > 1:\n",
    "        value *= n\n",
    "        n -= 1\n",
    "    return value"
   ]
  },
  {
   "cell_type": "code",
   "execution_count": 16,
   "id": "a0275f09",
   "metadata": {},
   "outputs": [
    {
     "data": {
      "text/plain": [
       "6"
      ]
     },
     "execution_count": 16,
     "metadata": {},
     "output_type": "execute_result"
    }
   ],
   "source": [
    "factorial(3)"
   ]
  },
  {
   "cell_type": "code",
   "execution_count": 17,
   "id": "9eae3ac8",
   "metadata": {},
   "outputs": [],
   "source": [
    "# menghitung item dengan list \n",
    "def jumlahinput(listinput):\n",
    "    total = 0\n",
    "    for i in listinput:\n",
    "        total += 1\n",
    "    return total"
   ]
  },
  {
   "cell_type": "code",
   "execution_count": 20,
   "id": "2fb13a05",
   "metadata": {},
   "outputs": [
    {
     "data": {
      "text/plain": [
       "4"
      ]
     },
     "execution_count": 20,
     "metadata": {},
     "output_type": "execute_result"
    }
   ],
   "source": [
    "jumlahinput([10,20,30,40])"
   ]
  },
  {
   "cell_type": "code",
   "execution_count": 23,
   "id": "163a4427",
   "metadata": {},
   "outputs": [],
   "source": [
    "# menghitung item tanpa list \n",
    "def jumlah(*angka):\n",
    "    total = 0\n",
    "    for i in angka:\n",
    "        total += 1\n",
    "    return total"
   ]
  },
  {
   "cell_type": "code",
   "execution_count": 24,
   "id": "26b0042a",
   "metadata": {},
   "outputs": [
    {
     "data": {
      "text/plain": [
       "3"
      ]
     },
     "execution_count": 24,
     "metadata": {},
     "output_type": "execute_result"
    }
   ],
   "source": [
    "jumlah(1,2,3)"
   ]
  },
  {
   "cell_type": "code",
   "execution_count": 25,
   "id": "0369b1f3",
   "metadata": {},
   "outputs": [],
   "source": [
    "# menghitung faktorial sbg contoh fungsi rekursif\n",
    "def fac(n):\n",
    "    if (n == 1) or (n == 0):\n",
    "        return 1\n",
    "    else:\n",
    "        value = n * fac(n-1)\n",
    "    return value"
   ]
  },
  {
   "cell_type": "code",
   "execution_count": 26,
   "id": "524413aa",
   "metadata": {},
   "outputs": [
    {
     "data": {
      "text/plain": [
       "120"
      ]
     },
     "execution_count": 26,
     "metadata": {},
     "output_type": "execute_result"
    }
   ],
   "source": [
    "fac(5)"
   ]
  },
  {
   "cell_type": "code",
   "execution_count": 31,
   "id": "2a2ffb35",
   "metadata": {},
   "outputs": [
    {
     "name": "stdout",
     "output_type": "stream",
     "text": [
      "[4, 5, 6]\n",
      "[1, 2, 3]\n"
     ]
    }
   ],
   "source": [
    "def pdc (list_input):\n",
    "#     list_input.append([4, 5, 6])\n",
    "    list_input = [4, 5, 6]\n",
    "    print(list_input)\n",
    "\n",
    "list_input1 = [1, 2, 3]\n",
    "pdc(list_input1)\n",
    "print(list_input1)"
   ]
  },
  {
   "cell_type": "code",
   "execution_count": 7,
   "id": "c5671d59",
   "metadata": {},
   "outputs": [],
   "source": [
    "def ainalistring (string):\n",
    "#     print(string)\n",
    "    return string;"
   ]
  },
  {
   "cell_type": "code",
   "execution_count": 8,
   "id": "a8459d20",
   "metadata": {},
   "outputs": [
    {
     "data": {
      "text/plain": [
       "'Halo Dunia!'"
      ]
     },
     "execution_count": 8,
     "metadata": {},
     "output_type": "execute_result"
    }
   ],
   "source": [
    "ainalistring(\"Halo Dunia!\")"
   ]
  },
  {
   "cell_type": "markdown",
   "id": "5ad95160",
   "metadata": {},
   "source": [
    "Perbedaan fungsi dan prosedur:\n",
    "- Fungsi memiliki return yang akan mengembalikan nilai, misal pada fungsi ainalisme tadi, jika print(number) tidak dibuat, maka dengan adanya return number akan tetap mengembalikan hasilnya yaitu 88. \n",
    "- Prosedur tidak memiliki return sehingga tidak akan mengembalikan nilai atau menyimpan nilai."
   ]
  },
  {
   "cell_type": "code",
   "execution_count": 37,
   "id": "18caa120",
   "metadata": {},
   "outputs": [
    {
     "name": "stdout",
     "output_type": "stream",
     "text": [
      "0\n"
     ]
    }
   ],
   "source": [
    "total = 0\n",
    "def plus(m, n):\n",
    "#     global total\n",
    "    total = m + n\n",
    "    return total\n",
    "\n",
    "plus(1,2)\n",
    "# print(total)"
   ]
  },
  {
   "cell_type": "code",
   "execution_count": 38,
   "id": "214a86aa",
   "metadata": {},
   "outputs": [
    {
     "data": {
      "text/plain": [
       "5"
      ]
     },
     "execution_count": 38,
     "metadata": {},
     "output_type": "execute_result"
    }
   ],
   "source": [
    "a = 3\n",
    "def jumlah():\n",
    "    b = 2\n",
    "    return a+b\n",
    "\n",
    "jumlah()"
   ]
  },
  {
   "cell_type": "markdown",
   "id": "6df2e125",
   "metadata": {},
   "source": [
    "2. Jenis-jenis fungsi --->\n",
    "a. Pass by value\n",
    "b. Pass by reference"
   ]
  },
  {
   "cell_type": "markdown",
   "id": "3aa894f6",
   "metadata": {},
   "source": [
    "a. Pass by value --> nilai dari variabel awal tidak akan berubah"
   ]
  },
  {
   "cell_type": "code",
   "execution_count": 54,
   "id": "a671217d",
   "metadata": {},
   "outputs": [
    {
     "name": "stdout",
     "output_type": "stream",
     "text": [
      "Values inside the function:  ['cat', 'bunny', 'rabbit']\n",
      "Values outside the function:  ['dog', 'cow', 'bird']\n"
     ]
    }
   ],
   "source": [
    "def alter(petlist):\n",
    "    petlist = ['cat', 'bunny', 'rabbit']\n",
    "    print(\"Values inside the function: \", petlist)\n",
    "    return\n",
    "\n",
    "petlist = ['dog', 'cow', 'bird']\n",
    "alter(petlist)\n",
    "print(\"Values outside the function: \", petlist )"
   ]
  },
  {
   "cell_type": "code",
   "execution_count": 55,
   "id": "c4a7f0ce",
   "metadata": {},
   "outputs": [
    {
     "name": "stdout",
     "output_type": "stream",
     "text": [
      "Values inside the function:  ['dog', 'cow', 'bird', ['cat', 'bunny', 'rabbit']]\n",
      "Values outside the function:  ['dog', 'cow', 'bird', ['cat', 'bunny', 'rabbit']]\n"
     ]
    }
   ],
   "source": [
    "def alter(petlist):\n",
    "    petlist.append(['cat', 'bunny', 'rabbit'])\n",
    "#     petlist = ['cat', 'bunny', 'rabbit']\n",
    "    print(\"Values inside the function: \", petlist)\n",
    "    return \n",
    "\n",
    "petlist = ['dog', 'cow', 'bird']\n",
    "alter(petlist)\n",
    "print(\"Values outside the function: \", petlist )\n",
    "\n",
    "# contoh diatas adalah fungsi pass by value. Mengapa nilainya tetap sama? karena ada fungsi append yang akan menambahkan isi \n",
    "# dari list yang baru ke yang lama."
   ]
  },
  {
   "cell_type": "markdown",
   "id": "f33acbcc",
   "metadata": {},
   "source": [
    "2. Module"
   ]
  },
  {
   "cell_type": "code",
   "execution_count": 58,
   "id": "152e1511",
   "metadata": {},
   "outputs": [
    {
     "ename": "AttributeError",
     "evalue": "module 'mod' has no attribute 's'",
     "output_type": "error",
     "traceback": [
      "\u001b[1;31m---------------------------------------------------------------------------\u001b[0m",
      "\u001b[1;31mAttributeError\u001b[0m                            Traceback (most recent call last)",
      "Input \u001b[1;32mIn [58]\u001b[0m, in \u001b[0;36m<cell line: 2>\u001b[1;34m()\u001b[0m\n\u001b[0;32m      1\u001b[0m \u001b[38;5;28;01mimport\u001b[39;00m \u001b[38;5;21;01mmod\u001b[39;00m\n\u001b[1;32m----> 2\u001b[0m \u001b[43mmod\u001b[49m\u001b[38;5;241;43m.\u001b[39;49m\u001b[43ms\u001b[49m\n",
      "\u001b[1;31mAttributeError\u001b[0m: module 'mod' has no attribute 's'"
     ]
    }
   ],
   "source": [
    "import mod\n",
    "mod.s"
   ]
  },
  {
   "cell_type": "code",
   "execution_count": 50,
   "id": "6fd033e5",
   "metadata": {},
   "outputs": [
    {
     "data": {
      "text/plain": [
       "'C:\\\\Users\\\\LENOVO\\\\Hacktiv8\\\\hacktiv8Python\\\\mod.py'"
      ]
     },
     "execution_count": 50,
     "metadata": {},
     "output_type": "execute_result"
    }
   ],
   "source": [
    "mod.__file__"
   ]
  },
  {
   "cell_type": "code",
   "execution_count": 51,
   "id": "743e5dd4",
   "metadata": {},
   "outputs": [
    {
     "ename": "AttributeError",
     "evalue": "module 'mod' has no attribute 'path'",
     "output_type": "error",
     "traceback": [
      "\u001b[1;31m---------------------------------------------------------------------------\u001b[0m",
      "\u001b[1;31mAttributeError\u001b[0m                            Traceback (most recent call last)",
      "Input \u001b[1;32mIn [51]\u001b[0m, in \u001b[0;36m<cell line: 1>\u001b[1;34m()\u001b[0m\n\u001b[1;32m----> 1\u001b[0m \u001b[43mmod\u001b[49m\u001b[38;5;241;43m.\u001b[39;49m\u001b[43mpath\u001b[49m\n",
      "\u001b[1;31mAttributeError\u001b[0m: module 'mod' has no attribute 'path'"
     ]
    }
   ],
   "source": [
    "mod.path"
   ]
  },
  {
   "cell_type": "code",
   "execution_count": 54,
   "id": "3f930f0a",
   "metadata": {},
   "outputs": [
    {
     "ename": "ImportError",
     "evalue": "cannot import name 's' from 'mod' (C:\\Users\\LENOVO\\Hacktiv8\\hacktiv8Python\\mod.py)",
     "output_type": "error",
     "traceback": [
      "\u001b[1;31m---------------------------------------------------------------------------\u001b[0m",
      "\u001b[1;31mImportError\u001b[0m                               Traceback (most recent call last)",
      "Input \u001b[1;32mIn [54]\u001b[0m, in \u001b[0;36m<cell line: 1>\u001b[1;34m()\u001b[0m\n\u001b[1;32m----> 1\u001b[0m \u001b[38;5;28;01mfrom\u001b[39;00m \u001b[38;5;21;01mmod\u001b[39;00m \u001b[38;5;28;01mimport\u001b[39;00m s\n",
      "\u001b[1;31mImportError\u001b[0m: cannot import name 's' from 'mod' (C:\\Users\\LENOVO\\Hacktiv8\\hacktiv8Python\\mod.py)"
     ]
    }
   ],
   "source": [
    "from mod import s"
   ]
  },
  {
   "cell_type": "code",
   "execution_count": 53,
   "id": "2fe7c5a3",
   "metadata": {},
   "outputs": [
    {
     "ename": "NameError",
     "evalue": "name 's' is not defined",
     "output_type": "error",
     "traceback": [
      "\u001b[1;31m---------------------------------------------------------------------------\u001b[0m",
      "\u001b[1;31mNameError\u001b[0m                                 Traceback (most recent call last)",
      "Input \u001b[1;32mIn [53]\u001b[0m, in \u001b[0;36m<cell line: 1>\u001b[1;34m()\u001b[0m\n\u001b[1;32m----> 1\u001b[0m \u001b[43ms\u001b[49m\n",
      "\u001b[1;31mNameError\u001b[0m: name 's' is not defined"
     ]
    }
   ],
   "source": [
    "s"
   ]
  }
 ],
 "metadata": {
  "kernelspec": {
   "display_name": "Python 3 (ipykernel)",
   "language": "python",
   "name": "python3"
  },
  "language_info": {
   "codemirror_mode": {
    "name": "ipython",
    "version": 3
   },
   "file_extension": ".py",
   "mimetype": "text/x-python",
   "name": "python",
   "nbconvert_exporter": "python",
   "pygments_lexer": "ipython3",
   "version": "3.9.12"
  }
 },
 "nbformat": 4,
 "nbformat_minor": 5
}
